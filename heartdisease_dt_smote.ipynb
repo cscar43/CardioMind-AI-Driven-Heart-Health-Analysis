{
 "cells": [
  {
   "cell_type": "markdown",
   "metadata": {},
   "source": [
    "# Importing Dataframe using Spark and Coverting it to a Pandas Dataframe"
   ]
  },
  {
   "cell_type": "code",
   "execution_count": 64,
   "metadata": {},
   "outputs": [],
   "source": [
    "# Import findspark\n",
    "import findspark\n",
    "findspark.init()"
   ]
  },
  {
   "cell_type": "code",
   "execution_count": 65,
   "metadata": {},
   "outputs": [],
   "source": [
    "# Import the required modules\n",
    "import pandas as pd\n",
    "from pathlib import Path\n",
    "import hvplot.pandas\n",
    "\n",
    "# Import packages\n",
    "from pyspark.sql import SparkSession\n",
    "from pyspark.sql import Row\n",
    "from pyspark.sql.types import StructType,StructField,StringType, DateType,IntegerType\n",
    "from pyspark import SparkFiles\n",
    "\n",
    "# Create a SparkSession\n",
    "spark = SparkSession.builder.appName(\"HeartView\").getOrCreate()"
   ]
  },
  {
   "cell_type": "code",
   "execution_count": 66,
   "metadata": {},
   "outputs": [],
   "source": [
    "# Read data directly from a github repo.\n",
    "url='https://raw.githubusercontent.com/cscar43/Project_4/main/Resources/cleaned_data.csv'"
   ]
  },
  {
   "cell_type": "code",
   "execution_count": 67,
   "metadata": {},
   "outputs": [
    {
     "name": "stderr",
     "output_type": "stream",
     "text": [
      "23/08/03 21:59:20 WARN SparkContext: The path https://raw.githubusercontent.com/cscar43/Project_4/main/Resources/cleaned_data.csv has been added already. Overwriting of added paths is not supported in the current version.\n"
     ]
    },
    {
     "name": "stdout",
     "output_type": "stream",
     "text": [
      "+------+---+--------------+----------------+----------------------+--------+-----------------+-----------------------+------------------------+-----+----------+------------+\n",
      "|gender|age|current_smoker|prevalent_stroke|prevalent_hypertension|diabetes|total_cholesterol|systolic_blood_pressure|diastolic_blood_pressure|  bmi|heart_rate|heart_stroke|\n",
      "+------+---+--------------+----------------+----------------------+--------+-----------------+-----------------------+------------------------+-----+----------+------------+\n",
      "|  Male| 39|             0|              no|                     0|       0|            195.0|                  106.0|                    70.0|26.97|      80.0|          No|\n",
      "|Female| 46|             0|              no|                     0|       0|            250.0|                  121.0|                    81.0|28.73|      95.0|          No|\n",
      "|  Male| 48|             1|              no|                     0|       0|            245.0|                  127.5|                    80.0|25.34|      75.0|          No|\n",
      "|Female| 61|             1|              no|                     1|       0|            225.0|                  150.0|                    95.0|28.58|      65.0|         yes|\n",
      "|Female| 46|             1|              no|                     0|       0|            285.0|                  130.0|                    84.0| 23.1|      85.0|          No|\n",
      "|Female| 43|             0|              no|                     1|       0|            228.0|                  180.0|                   110.0| 30.3|      77.0|          No|\n",
      "|Female| 63|             0|              no|                     0|       0|            205.0|                  138.0|                    71.0|33.11|      60.0|         yes|\n",
      "|Female| 45|             1|              no|                     0|       0|            313.0|                  100.0|                    71.0|21.68|      79.0|          No|\n",
      "|  Male| 52|             0|              no|                     1|       0|            260.0|                  141.5|                    89.0|26.36|      76.0|          No|\n",
      "|  Male| 43|             1|              no|                     1|       0|            225.0|                  162.0|                   107.0|23.61|      93.0|          No|\n",
      "|Female| 50|             0|              no|                     0|       0|            254.0|                  133.0|                    76.0|22.91|      75.0|          No|\n",
      "|Female| 43|             0|              no|                     0|       0|            247.0|                  131.0|                    88.0|27.64|      72.0|          No|\n",
      "|  Male| 46|             1|              no|                     1|       0|            294.0|                  142.0|                    94.0|26.31|      98.0|          No|\n",
      "|Female| 41|             0|              no|                     1|       0|            332.0|                  124.0|                    88.0|31.31|      65.0|          No|\n",
      "|Female| 39|             1|              no|                     0|       0|            226.0|                  114.0|                    64.0|22.35|      85.0|          No|\n",
      "|Female| 38|             1|              no|                     1|       0|            221.0|                  140.0|                    90.0|21.35|      95.0|         yes|\n",
      "|  Male| 48|             1|              no|                     1|       0|            232.0|                  138.0|                    90.0|22.37|      64.0|          No|\n",
      "|Female| 46|             1|              no|                     0|       0|            291.0|                  112.0|                    78.0|23.38|      80.0|         yes|\n",
      "|Female| 38|             1|              no|                     0|       0|            195.0|                  122.0|                    84.5|23.24|      75.0|          No|\n",
      "|  Male| 41|             0|              no|                     0|       0|            195.0|                  139.0|                    88.0|26.88|      85.0|          No|\n",
      "+------+---+--------------+----------------+----------------------+--------+-----------------+-----------------------+------------------------+-----+----------+------------+\n",
      "only showing top 20 rows\n",
      "\n"
     ]
    }
   ],
   "source": [
    "# Add an external file to be distributed across Spark cluster nodes\n",
    "spark.sparkContext.addFile(url)\n",
    "heart_data = spark.read.option('header', 'true').csv(SparkFiles.get(\"cleaned_data.csv\"), inferSchema=True, sep=',', timestampFormat=\"mm/dd/yy\")\n",
    "\n",
    "# Show DataFrame\n",
    "heart_data.show()"
   ]
  },
  {
   "cell_type": "code",
   "execution_count": 68,
   "metadata": {},
   "outputs": [
    {
     "data": {
      "text/html": [
       "<div>\n",
       "<style scoped>\n",
       "    .dataframe tbody tr th:only-of-type {\n",
       "        vertical-align: middle;\n",
       "    }\n",
       "\n",
       "    .dataframe tbody tr th {\n",
       "        vertical-align: top;\n",
       "    }\n",
       "\n",
       "    .dataframe thead th {\n",
       "        text-align: right;\n",
       "    }\n",
       "</style>\n",
       "<table border=\"1\" class=\"dataframe\">\n",
       "  <thead>\n",
       "    <tr style=\"text-align: right;\">\n",
       "      <th></th>\n",
       "      <th>gender</th>\n",
       "      <th>age</th>\n",
       "      <th>current_smoker</th>\n",
       "      <th>prevalent_stroke</th>\n",
       "      <th>prevalent_hypertension</th>\n",
       "      <th>diabetes</th>\n",
       "      <th>total_cholesterol</th>\n",
       "      <th>systolic_blood_pressure</th>\n",
       "      <th>diastolic_blood_pressure</th>\n",
       "      <th>bmi</th>\n",
       "      <th>heart_rate</th>\n",
       "      <th>heart_stroke</th>\n",
       "    </tr>\n",
       "  </thead>\n",
       "  <tbody>\n",
       "    <tr>\n",
       "      <th>0</th>\n",
       "      <td>Male</td>\n",
       "      <td>39</td>\n",
       "      <td>0</td>\n",
       "      <td>no</td>\n",
       "      <td>0</td>\n",
       "      <td>0</td>\n",
       "      <td>195.0</td>\n",
       "      <td>106.0</td>\n",
       "      <td>70.0</td>\n",
       "      <td>26.97</td>\n",
       "      <td>80.0</td>\n",
       "      <td>No</td>\n",
       "    </tr>\n",
       "    <tr>\n",
       "      <th>1</th>\n",
       "      <td>Female</td>\n",
       "      <td>46</td>\n",
       "      <td>0</td>\n",
       "      <td>no</td>\n",
       "      <td>0</td>\n",
       "      <td>0</td>\n",
       "      <td>250.0</td>\n",
       "      <td>121.0</td>\n",
       "      <td>81.0</td>\n",
       "      <td>28.73</td>\n",
       "      <td>95.0</td>\n",
       "      <td>No</td>\n",
       "    </tr>\n",
       "    <tr>\n",
       "      <th>2</th>\n",
       "      <td>Male</td>\n",
       "      <td>48</td>\n",
       "      <td>1</td>\n",
       "      <td>no</td>\n",
       "      <td>0</td>\n",
       "      <td>0</td>\n",
       "      <td>245.0</td>\n",
       "      <td>127.5</td>\n",
       "      <td>80.0</td>\n",
       "      <td>25.34</td>\n",
       "      <td>75.0</td>\n",
       "      <td>No</td>\n",
       "    </tr>\n",
       "    <tr>\n",
       "      <th>3</th>\n",
       "      <td>Female</td>\n",
       "      <td>61</td>\n",
       "      <td>1</td>\n",
       "      <td>no</td>\n",
       "      <td>1</td>\n",
       "      <td>0</td>\n",
       "      <td>225.0</td>\n",
       "      <td>150.0</td>\n",
       "      <td>95.0</td>\n",
       "      <td>28.58</td>\n",
       "      <td>65.0</td>\n",
       "      <td>yes</td>\n",
       "    </tr>\n",
       "    <tr>\n",
       "      <th>4</th>\n",
       "      <td>Female</td>\n",
       "      <td>46</td>\n",
       "      <td>1</td>\n",
       "      <td>no</td>\n",
       "      <td>0</td>\n",
       "      <td>0</td>\n",
       "      <td>285.0</td>\n",
       "      <td>130.0</td>\n",
       "      <td>84.0</td>\n",
       "      <td>23.10</td>\n",
       "      <td>85.0</td>\n",
       "      <td>No</td>\n",
       "    </tr>\n",
       "  </tbody>\n",
       "</table>\n",
       "</div>"
      ],
      "text/plain": [
       "   gender  age  current_smoker prevalent_stroke  prevalent_hypertension  \\\n",
       "0    Male   39               0               no                       0   \n",
       "1  Female   46               0               no                       0   \n",
       "2    Male   48               1               no                       0   \n",
       "3  Female   61               1               no                       1   \n",
       "4  Female   46               1               no                       0   \n",
       "\n",
       "   diabetes  total_cholesterol  systolic_blood_pressure  \\\n",
       "0         0              195.0                    106.0   \n",
       "1         0              250.0                    121.0   \n",
       "2         0              245.0                    127.5   \n",
       "3         0              225.0                    150.0   \n",
       "4         0              285.0                    130.0   \n",
       "\n",
       "   diastolic_blood_pressure    bmi  heart_rate heart_stroke  \n",
       "0                      70.0  26.97        80.0           No  \n",
       "1                      81.0  28.73        95.0           No  \n",
       "2                      80.0  25.34        75.0           No  \n",
       "3                      95.0  28.58        65.0          yes  \n",
       "4                      84.0  23.10        85.0           No  "
      ]
     },
     "execution_count": 68,
     "metadata": {},
     "output_type": "execute_result"
    }
   ],
   "source": [
    "# Converting the data from PySpark to Pandas Dataframe\n",
    "heart_data_df = heart_data.toPandas()\n",
    "heart_data_df.head()"
   ]
  },
  {
   "cell_type": "markdown",
   "metadata": {},
   "source": [
    "# Prepping the Data for the Model"
   ]
  },
  {
   "cell_type": "code",
   "execution_count": 69,
   "metadata": {},
   "outputs": [],
   "source": [
    "#Selecting the Columns for Dummies\n",
    "columns_to_dummify = [\"gender\", \"prevalent_stroke\", \"heart_stroke\"]\n",
    "\n",
    "# Use pd.get_dummies() on the selected columns\n",
    "heart_dum = pd.get_dummies(heart_data_df[columns_to_dummify])\n"
   ]
  },
  {
   "cell_type": "code",
   "execution_count": 70,
   "metadata": {},
   "outputs": [
    {
     "data": {
      "text/html": [
       "<div>\n",
       "<style scoped>\n",
       "    .dataframe tbody tr th:only-of-type {\n",
       "        vertical-align: middle;\n",
       "    }\n",
       "\n",
       "    .dataframe tbody tr th {\n",
       "        vertical-align: top;\n",
       "    }\n",
       "\n",
       "    .dataframe thead th {\n",
       "        text-align: right;\n",
       "    }\n",
       "</style>\n",
       "<table border=\"1\" class=\"dataframe\">\n",
       "  <thead>\n",
       "    <tr style=\"text-align: right;\">\n",
       "      <th></th>\n",
       "      <th>age</th>\n",
       "      <th>current_smoker</th>\n",
       "      <th>prevalent_hypertension</th>\n",
       "      <th>diabetes</th>\n",
       "      <th>total_cholesterol</th>\n",
       "      <th>systolic_blood_pressure</th>\n",
       "      <th>diastolic_blood_pressure</th>\n",
       "      <th>bmi</th>\n",
       "      <th>heart_rate</th>\n",
       "      <th>gender_Female</th>\n",
       "      <th>gender_Male</th>\n",
       "      <th>prevalent_stroke_no</th>\n",
       "      <th>prevalent_stroke_yes</th>\n",
       "      <th>heart_stroke_No</th>\n",
       "      <th>heart_stroke_yes</th>\n",
       "    </tr>\n",
       "  </thead>\n",
       "  <tbody>\n",
       "    <tr>\n",
       "      <th>0</th>\n",
       "      <td>39</td>\n",
       "      <td>0</td>\n",
       "      <td>0</td>\n",
       "      <td>0</td>\n",
       "      <td>195.0</td>\n",
       "      <td>106.0</td>\n",
       "      <td>70.0</td>\n",
       "      <td>26.97</td>\n",
       "      <td>80.0</td>\n",
       "      <td>0</td>\n",
       "      <td>1</td>\n",
       "      <td>1</td>\n",
       "      <td>0</td>\n",
       "      <td>1</td>\n",
       "      <td>0</td>\n",
       "    </tr>\n",
       "    <tr>\n",
       "      <th>1</th>\n",
       "      <td>46</td>\n",
       "      <td>0</td>\n",
       "      <td>0</td>\n",
       "      <td>0</td>\n",
       "      <td>250.0</td>\n",
       "      <td>121.0</td>\n",
       "      <td>81.0</td>\n",
       "      <td>28.73</td>\n",
       "      <td>95.0</td>\n",
       "      <td>1</td>\n",
       "      <td>0</td>\n",
       "      <td>1</td>\n",
       "      <td>0</td>\n",
       "      <td>1</td>\n",
       "      <td>0</td>\n",
       "    </tr>\n",
       "    <tr>\n",
       "      <th>2</th>\n",
       "      <td>48</td>\n",
       "      <td>1</td>\n",
       "      <td>0</td>\n",
       "      <td>0</td>\n",
       "      <td>245.0</td>\n",
       "      <td>127.5</td>\n",
       "      <td>80.0</td>\n",
       "      <td>25.34</td>\n",
       "      <td>75.0</td>\n",
       "      <td>0</td>\n",
       "      <td>1</td>\n",
       "      <td>1</td>\n",
       "      <td>0</td>\n",
       "      <td>1</td>\n",
       "      <td>0</td>\n",
       "    </tr>\n",
       "    <tr>\n",
       "      <th>3</th>\n",
       "      <td>61</td>\n",
       "      <td>1</td>\n",
       "      <td>1</td>\n",
       "      <td>0</td>\n",
       "      <td>225.0</td>\n",
       "      <td>150.0</td>\n",
       "      <td>95.0</td>\n",
       "      <td>28.58</td>\n",
       "      <td>65.0</td>\n",
       "      <td>1</td>\n",
       "      <td>0</td>\n",
       "      <td>1</td>\n",
       "      <td>0</td>\n",
       "      <td>0</td>\n",
       "      <td>1</td>\n",
       "    </tr>\n",
       "    <tr>\n",
       "      <th>4</th>\n",
       "      <td>46</td>\n",
       "      <td>1</td>\n",
       "      <td>0</td>\n",
       "      <td>0</td>\n",
       "      <td>285.0</td>\n",
       "      <td>130.0</td>\n",
       "      <td>84.0</td>\n",
       "      <td>23.10</td>\n",
       "      <td>85.0</td>\n",
       "      <td>1</td>\n",
       "      <td>0</td>\n",
       "      <td>1</td>\n",
       "      <td>0</td>\n",
       "      <td>1</td>\n",
       "      <td>0</td>\n",
       "    </tr>\n",
       "  </tbody>\n",
       "</table>\n",
       "</div>"
      ],
      "text/plain": [
       "   age  current_smoker  prevalent_hypertension  diabetes  total_cholesterol  \\\n",
       "0   39               0                       0         0              195.0   \n",
       "1   46               0                       0         0              250.0   \n",
       "2   48               1                       0         0              245.0   \n",
       "3   61               1                       1         0              225.0   \n",
       "4   46               1                       0         0              285.0   \n",
       "\n",
       "   systolic_blood_pressure  diastolic_blood_pressure    bmi  heart_rate  \\\n",
       "0                    106.0                      70.0  26.97        80.0   \n",
       "1                    121.0                      81.0  28.73        95.0   \n",
       "2                    127.5                      80.0  25.34        75.0   \n",
       "3                    150.0                      95.0  28.58        65.0   \n",
       "4                    130.0                      84.0  23.10        85.0   \n",
       "\n",
       "   gender_Female  gender_Male  prevalent_stroke_no  prevalent_stroke_yes  \\\n",
       "0              0            1                    1                     0   \n",
       "1              1            0                    1                     0   \n",
       "2              0            1                    1                     0   \n",
       "3              1            0                    1                     0   \n",
       "4              1            0                    1                     0   \n",
       "\n",
       "   heart_stroke_No  heart_stroke_yes  \n",
       "0                1                 0  \n",
       "1                1                 0  \n",
       "2                1                 0  \n",
       "3                0                 1  \n",
       "4                1                 0  "
      ]
     },
     "execution_count": 70,
     "metadata": {},
     "output_type": "execute_result"
    }
   ],
   "source": [
    "#Adding the New Dummy Data to the Original Dataframe\n",
    "heart_data_df = pd.concat([heart_data_df, heart_dum], axis=1)\n",
    "\n",
    "# Drop the original education column\n",
    "heart_data_df = heart_data_df.drop(columns=[\"gender\", \"prevalent_stroke\", \"heart_stroke\"])\n",
    "\n",
    "heart_data_df.head()"
   ]
  },
  {
   "cell_type": "code",
   "execution_count": 71,
   "metadata": {},
   "outputs": [],
   "source": [
    "# Import the module\n",
    "from sklearn.preprocessing import StandardScaler"
   ]
  },
  {
   "cell_type": "code",
   "execution_count": 72,
   "metadata": {},
   "outputs": [
    {
     "data": {
      "text/plain": [
       "array([[-1.23469876, -0.93688293, -1.19781851, -1.08622077,  0.28819812,\n",
       "         0.34464389],\n",
       "       [-0.41544966,  0.29645369, -0.51449813, -0.16037163,  0.71984643,\n",
       "         1.59044191],\n",
       "       [-0.18137849,  0.18433217, -0.21839263, -0.24453973, -0.11156707,\n",
       "        -0.07062212],\n",
       "       ...,\n",
       "       [-0.18137849,  0.25160508, -0.0589512 , -0.91788456, -0.93071784,\n",
       "         0.6768567 ],\n",
       "       [-0.64952083, -0.6005184 , -0.26394732,  0.34463699, -1.62724124,\n",
       "         0.8429631 ],\n",
       "       [ 0.28676386,  0.72251543,  0.05493553,  0.00796458, -1.06070284,\n",
       "         0.34464389]])"
      ]
     },
     "execution_count": 72,
     "metadata": {},
     "output_type": "execute_result"
    }
   ],
   "source": [
    "# Scaling the numeric columns\n",
    "heart_data_scaled = StandardScaler().fit_transform(heart_data_df[[\"age\", \"total_cholesterol\", \"systolic_blood_pressure\", \"diastolic_blood_pressure\", \"bmi\", \"heart_rate\"]])\n",
    "\n",
    "# Review the scaled data\n",
    "heart_data_scaled"
   ]
  },
  {
   "cell_type": "code",
   "execution_count": 73,
   "metadata": {},
   "outputs": [
    {
     "data": {
      "text/html": [
       "<div>\n",
       "<style scoped>\n",
       "    .dataframe tbody tr th:only-of-type {\n",
       "        vertical-align: middle;\n",
       "    }\n",
       "\n",
       "    .dataframe tbody tr th {\n",
       "        vertical-align: top;\n",
       "    }\n",
       "\n",
       "    .dataframe thead th {\n",
       "        text-align: right;\n",
       "    }\n",
       "</style>\n",
       "<table border=\"1\" class=\"dataframe\">\n",
       "  <thead>\n",
       "    <tr style=\"text-align: right;\">\n",
       "      <th></th>\n",
       "      <th>age</th>\n",
       "      <th>current_smoker</th>\n",
       "      <th>prevalent_hypertension</th>\n",
       "      <th>diabetes</th>\n",
       "      <th>total_cholesterol</th>\n",
       "      <th>systolic_blood_pressure</th>\n",
       "      <th>diastolic_blood_pressure</th>\n",
       "      <th>bmi</th>\n",
       "      <th>heart_rate</th>\n",
       "      <th>gender_Female</th>\n",
       "      <th>gender_Male</th>\n",
       "      <th>prevalent_stroke_no</th>\n",
       "      <th>prevalent_stroke_yes</th>\n",
       "      <th>heart_stroke_No</th>\n",
       "      <th>heart_stroke_yes</th>\n",
       "    </tr>\n",
       "  </thead>\n",
       "  <tbody>\n",
       "    <tr>\n",
       "      <th>0</th>\n",
       "      <td>-1.234699</td>\n",
       "      <td>0</td>\n",
       "      <td>0</td>\n",
       "      <td>0</td>\n",
       "      <td>-0.936883</td>\n",
       "      <td>-1.197819</td>\n",
       "      <td>-1.086221</td>\n",
       "      <td>0.288198</td>\n",
       "      <td>0.344644</td>\n",
       "      <td>0</td>\n",
       "      <td>1</td>\n",
       "      <td>1</td>\n",
       "      <td>0</td>\n",
       "      <td>1</td>\n",
       "      <td>0</td>\n",
       "    </tr>\n",
       "    <tr>\n",
       "      <th>1</th>\n",
       "      <td>-0.415450</td>\n",
       "      <td>0</td>\n",
       "      <td>0</td>\n",
       "      <td>0</td>\n",
       "      <td>0.296454</td>\n",
       "      <td>-0.514498</td>\n",
       "      <td>-0.160372</td>\n",
       "      <td>0.719846</td>\n",
       "      <td>1.590442</td>\n",
       "      <td>1</td>\n",
       "      <td>0</td>\n",
       "      <td>1</td>\n",
       "      <td>0</td>\n",
       "      <td>1</td>\n",
       "      <td>0</td>\n",
       "    </tr>\n",
       "    <tr>\n",
       "      <th>2</th>\n",
       "      <td>-0.181378</td>\n",
       "      <td>1</td>\n",
       "      <td>0</td>\n",
       "      <td>0</td>\n",
       "      <td>0.184332</td>\n",
       "      <td>-0.218393</td>\n",
       "      <td>-0.244540</td>\n",
       "      <td>-0.111567</td>\n",
       "      <td>-0.070622</td>\n",
       "      <td>0</td>\n",
       "      <td>1</td>\n",
       "      <td>1</td>\n",
       "      <td>0</td>\n",
       "      <td>1</td>\n",
       "      <td>0</td>\n",
       "    </tr>\n",
       "    <tr>\n",
       "      <th>3</th>\n",
       "      <td>1.340084</td>\n",
       "      <td>1</td>\n",
       "      <td>1</td>\n",
       "      <td>0</td>\n",
       "      <td>-0.264154</td>\n",
       "      <td>0.806588</td>\n",
       "      <td>1.017982</td>\n",
       "      <td>0.683058</td>\n",
       "      <td>-0.901154</td>\n",
       "      <td>1</td>\n",
       "      <td>0</td>\n",
       "      <td>1</td>\n",
       "      <td>0</td>\n",
       "      <td>0</td>\n",
       "      <td>1</td>\n",
       "    </tr>\n",
       "    <tr>\n",
       "      <th>4</th>\n",
       "      <td>-0.415450</td>\n",
       "      <td>1</td>\n",
       "      <td>0</td>\n",
       "      <td>0</td>\n",
       "      <td>1.081304</td>\n",
       "      <td>-0.104506</td>\n",
       "      <td>0.092133</td>\n",
       "      <td>-0.660938</td>\n",
       "      <td>0.759910</td>\n",
       "      <td>1</td>\n",
       "      <td>0</td>\n",
       "      <td>1</td>\n",
       "      <td>0</td>\n",
       "      <td>1</td>\n",
       "      <td>0</td>\n",
       "    </tr>\n",
       "  </tbody>\n",
       "</table>\n",
       "</div>"
      ],
      "text/plain": [
       "        age  current_smoker  prevalent_hypertension  diabetes  \\\n",
       "0 -1.234699               0                       0         0   \n",
       "1 -0.415450               0                       0         0   \n",
       "2 -0.181378               1                       0         0   \n",
       "3  1.340084               1                       1         0   \n",
       "4 -0.415450               1                       0         0   \n",
       "\n",
       "   total_cholesterol  systolic_blood_pressure  diastolic_blood_pressure  \\\n",
       "0          -0.936883                -1.197819                 -1.086221   \n",
       "1           0.296454                -0.514498                 -0.160372   \n",
       "2           0.184332                -0.218393                 -0.244540   \n",
       "3          -0.264154                 0.806588                  1.017982   \n",
       "4           1.081304                -0.104506                  0.092133   \n",
       "\n",
       "        bmi  heart_rate  gender_Female  gender_Male  prevalent_stroke_no  \\\n",
       "0  0.288198    0.344644              0            1                    1   \n",
       "1  0.719846    1.590442              1            0                    1   \n",
       "2 -0.111567   -0.070622              0            1                    1   \n",
       "3  0.683058   -0.901154              1            0                    1   \n",
       "4 -0.660938    0.759910              1            0                    1   \n",
       "\n",
       "   prevalent_stroke_yes  heart_stroke_No  heart_stroke_yes  \n",
       "0                     0                1                 0  \n",
       "1                     0                1                 0  \n",
       "2                     0                1                 0  \n",
       "3                     0                0                 1  \n",
       "4                     0                1                 0  "
      ]
     },
     "execution_count": 73,
     "metadata": {},
     "output_type": "execute_result"
    }
   ],
   "source": [
    "# Create a DataFrame of the scaled data\n",
    "heart_data_scaled = pd.DataFrame(heart_data_scaled, columns=[\"age\", \"total_cholesterol\", \"systolic_blood_pressure\", \"diastolic_blood_pressure\", \"bmi\", \"heart_rate\"])\n",
    "\n",
    "# Replace the original data with the columns of information from the scaled Data\n",
    "heart_data_df[\"age\"] = heart_data_scaled[\"age\"]\n",
    "heart_data_df[\"total_cholesterol\"] = heart_data_scaled[\"total_cholesterol\"]\n",
    "heart_data_df[\"systolic_blood_pressure\"] = heart_data_scaled[\"systolic_blood_pressure\"]\n",
    "heart_data_df[\"diastolic_blood_pressure\"] = heart_data_scaled[\"diastolic_blood_pressure\"]\n",
    "heart_data_df[\"bmi\"] = heart_data_scaled[\"bmi\"]\n",
    "heart_data_df[\"heart_rate\"] = heart_data_scaled[\"heart_rate\"]\n",
    "\n",
    "# Review the DataFrame\n",
    "heart_data_df.head()"
   ]
  },
  {
   "cell_type": "code",
   "execution_count": 74,
   "metadata": {},
   "outputs": [],
   "source": [
    "heart_data_df.drop(['prevalent_stroke_no', 'heart_stroke_No', 'gender_Male'], axis=1, inplace=True)"
   ]
  },
  {
   "cell_type": "code",
   "execution_count": 75,
   "metadata": {},
   "outputs": [
    {
     "data": {
      "text/html": [
       "<div>\n",
       "<style scoped>\n",
       "    .dataframe tbody tr th:only-of-type {\n",
       "        vertical-align: middle;\n",
       "    }\n",
       "\n",
       "    .dataframe tbody tr th {\n",
       "        vertical-align: top;\n",
       "    }\n",
       "\n",
       "    .dataframe thead th {\n",
       "        text-align: right;\n",
       "    }\n",
       "</style>\n",
       "<table border=\"1\" class=\"dataframe\">\n",
       "  <thead>\n",
       "    <tr style=\"text-align: right;\">\n",
       "      <th></th>\n",
       "      <th>age</th>\n",
       "      <th>current_smoker</th>\n",
       "      <th>prevalent_hypertension</th>\n",
       "      <th>diabetes</th>\n",
       "      <th>total_cholesterol</th>\n",
       "      <th>systolic_blood_pressure</th>\n",
       "      <th>diastolic_blood_pressure</th>\n",
       "      <th>bmi</th>\n",
       "      <th>heart_rate</th>\n",
       "      <th>gender</th>\n",
       "      <th>prevalent_stroke</th>\n",
       "      <th>heart_stroke</th>\n",
       "    </tr>\n",
       "  </thead>\n",
       "  <tbody>\n",
       "    <tr>\n",
       "      <th>0</th>\n",
       "      <td>-1.234699</td>\n",
       "      <td>0</td>\n",
       "      <td>0</td>\n",
       "      <td>0</td>\n",
       "      <td>-0.936883</td>\n",
       "      <td>-1.197819</td>\n",
       "      <td>-1.086221</td>\n",
       "      <td>0.288198</td>\n",
       "      <td>0.344644</td>\n",
       "      <td>0</td>\n",
       "      <td>0</td>\n",
       "      <td>0</td>\n",
       "    </tr>\n",
       "    <tr>\n",
       "      <th>1</th>\n",
       "      <td>-0.415450</td>\n",
       "      <td>0</td>\n",
       "      <td>0</td>\n",
       "      <td>0</td>\n",
       "      <td>0.296454</td>\n",
       "      <td>-0.514498</td>\n",
       "      <td>-0.160372</td>\n",
       "      <td>0.719846</td>\n",
       "      <td>1.590442</td>\n",
       "      <td>1</td>\n",
       "      <td>0</td>\n",
       "      <td>0</td>\n",
       "    </tr>\n",
       "    <tr>\n",
       "      <th>2</th>\n",
       "      <td>-0.181378</td>\n",
       "      <td>1</td>\n",
       "      <td>0</td>\n",
       "      <td>0</td>\n",
       "      <td>0.184332</td>\n",
       "      <td>-0.218393</td>\n",
       "      <td>-0.244540</td>\n",
       "      <td>-0.111567</td>\n",
       "      <td>-0.070622</td>\n",
       "      <td>0</td>\n",
       "      <td>0</td>\n",
       "      <td>0</td>\n",
       "    </tr>\n",
       "    <tr>\n",
       "      <th>3</th>\n",
       "      <td>1.340084</td>\n",
       "      <td>1</td>\n",
       "      <td>1</td>\n",
       "      <td>0</td>\n",
       "      <td>-0.264154</td>\n",
       "      <td>0.806588</td>\n",
       "      <td>1.017982</td>\n",
       "      <td>0.683058</td>\n",
       "      <td>-0.901154</td>\n",
       "      <td>1</td>\n",
       "      <td>0</td>\n",
       "      <td>1</td>\n",
       "    </tr>\n",
       "    <tr>\n",
       "      <th>4</th>\n",
       "      <td>-0.415450</td>\n",
       "      <td>1</td>\n",
       "      <td>0</td>\n",
       "      <td>0</td>\n",
       "      <td>1.081304</td>\n",
       "      <td>-0.104506</td>\n",
       "      <td>0.092133</td>\n",
       "      <td>-0.660938</td>\n",
       "      <td>0.759910</td>\n",
       "      <td>1</td>\n",
       "      <td>0</td>\n",
       "      <td>0</td>\n",
       "    </tr>\n",
       "  </tbody>\n",
       "</table>\n",
       "</div>"
      ],
      "text/plain": [
       "        age  current_smoker  prevalent_hypertension  diabetes  \\\n",
       "0 -1.234699               0                       0         0   \n",
       "1 -0.415450               0                       0         0   \n",
       "2 -0.181378               1                       0         0   \n",
       "3  1.340084               1                       1         0   \n",
       "4 -0.415450               1                       0         0   \n",
       "\n",
       "   total_cholesterol  systolic_blood_pressure  diastolic_blood_pressure  \\\n",
       "0          -0.936883                -1.197819                 -1.086221   \n",
       "1           0.296454                -0.514498                 -0.160372   \n",
       "2           0.184332                -0.218393                 -0.244540   \n",
       "3          -0.264154                 0.806588                  1.017982   \n",
       "4           1.081304                -0.104506                  0.092133   \n",
       "\n",
       "        bmi  heart_rate  gender  prevalent_stroke  heart_stroke  \n",
       "0  0.288198    0.344644       0                 0             0  \n",
       "1  0.719846    1.590442       1                 0             0  \n",
       "2 -0.111567   -0.070622       0                 0             0  \n",
       "3  0.683058   -0.901154       1                 0             1  \n",
       "4 -0.660938    0.759910       1                 0             0  "
      ]
     },
     "execution_count": 75,
     "metadata": {},
     "output_type": "execute_result"
    }
   ],
   "source": [
    "heart_data_df.rename(columns={'prevalent_stroke_yes': 'prevalent_stroke', 'heart_stroke_yes': 'heart_stroke', 'gender_Female': 'gender'}, inplace=True)\n",
    "\n",
    "heart_data_df.head()"
   ]
  },
  {
   "cell_type": "markdown",
   "metadata": {},
   "source": [
    "# Using XGBoost model to see train the Data"
   ]
  },
  {
   "cell_type": "code",
   "execution_count": 76,
   "metadata": {},
   "outputs": [],
   "source": [
    "import xgboost as xgb\n",
    "from sklearn.model_selection import train_test_split\n",
    "from imblearn.over_sampling import SMOTE\n",
    "from sklearn.metrics import accuracy_score, confusion_matrix, classification_report"
   ]
  },
  {
   "cell_type": "code",
   "execution_count": 77,
   "metadata": {},
   "outputs": [],
   "source": [
    "#Getting the Fetures from The Data\n",
    "X = heart_data_df.drop(columns='heart_stroke')\n",
    "y = heart_data_df[\"heart_stroke\"]"
   ]
  },
  {
   "cell_type": "code",
   "execution_count": 78,
   "metadata": {},
   "outputs": [],
   "source": [
    "# Step 3: Train-Test Split\n",
    "X_train, X_test, y_train, y_test = train_test_split(X, y, test_size=0.2, random_state=42)"
   ]
  },
  {
   "cell_type": "code",
   "execution_count": 79,
   "metadata": {},
   "outputs": [],
   "source": [
    "# Step 4: Handle Class Imbalance using SMOTE\n",
    "smote = SMOTE(random_state=42)\n",
    "X_train_resampled, y_train_resampled = smote.fit_resample(X_train, y_train)"
   ]
  },
  {
   "cell_type": "code",
   "execution_count": 80,
   "metadata": {},
   "outputs": [],
   "source": [
    "# Step 5: Create the XGBoost model with the best hyperparameters\n",
    "params = {'colsample_bytree': 0.8, 'learning_rate': 0.01, 'max_depth': 3,\n",
    "               'min_child_weight': 1, 'n_estimators': 200, 'subsample': 1.0}\n",
    "model = xgb.XGBClassifier(objective='binary:logistic', random_state=42, **params)"
   ]
  },
  {
   "cell_type": "code",
   "execution_count": 81,
   "metadata": {},
   "outputs": [
    {
     "data": {
      "text/plain": [
       "XGBClassifier(base_score=0.5, booster='gbtree', callbacks=None,\n",
       "              colsample_bylevel=1, colsample_bynode=1, colsample_bytree=0.8,\n",
       "              early_stopping_rounds=None, enable_categorical=False,\n",
       "              eval_metric=None, gamma=0, gpu_id=-1, grow_policy='depthwise',\n",
       "              importance_type=None, interaction_constraints='',\n",
       "              learning_rate=0.01, max_bin=256, max_cat_to_onehot=4,\n",
       "              max_delta_step=0, max_depth=3, max_leaves=0, min_child_weight=1,\n",
       "              missing=nan, monotone_constraints='()', n_estimators=200,\n",
       "              n_jobs=0, num_parallel_tree=1, predictor='auto', random_state=42,\n",
       "              reg_alpha=0, reg_lambda=1, ...)"
      ]
     },
     "execution_count": 81,
     "metadata": {},
     "output_type": "execute_result"
    }
   ],
   "source": [
    "# Step 6: Train the Model on Resampled Data\n",
    "model.fit(X_train_resampled, y_train_resampled)"
   ]
  },
  {
   "cell_type": "code",
   "execution_count": 82,
   "metadata": {},
   "outputs": [],
   "source": [
    "# Step 7: Make Predictions\n",
    "y_pred = model.predict(X_test)"
   ]
  },
  {
   "cell_type": "code",
   "execution_count": 83,
   "metadata": {},
   "outputs": [
    {
     "name": "stdout",
     "output_type": "stream",
     "text": [
      "Classification Report:\n",
      "              precision    recall  f1-score   support\n",
      "\n",
      "           0       0.91      0.66      0.77       708\n",
      "           1       0.25      0.65      0.36       126\n",
      "\n",
      "    accuracy                           0.66       834\n",
      "   macro avg       0.58      0.65      0.56       834\n",
      "weighted avg       0.81      0.66      0.70       834\n",
      "\n",
      "Accuracy: 0.657074340527578\n",
      "Confusion Matrix:\n",
      "[[466 242]\n",
      " [ 44  82]]\n"
     ]
    }
   ],
   "source": [
    "# Step 8: Evaluate the Model\n",
    "accuracy = accuracy_score(y_test, y_pred)\n",
    "conf_matrix = confusion_matrix(y_test, y_pred)\n",
    "\n",
    "print(\"Classification Report:\")\n",
    "print(classification_report(y_test, y_pred))\n",
    "print(\"Accuracy:\", accuracy)\n",
    "print(\"Confusion Matrix:\")\n",
    "print(conf_matrix)"
   ]
  },
  {
   "cell_type": "code",
   "execution_count": 84,
   "metadata": {},
   "outputs": [
    {
     "data": {
      "text/html": [
       "<div>\n",
       "<style scoped>\n",
       "    .dataframe tbody tr th:only-of-type {\n",
       "        vertical-align: middle;\n",
       "    }\n",
       "\n",
       "    .dataframe tbody tr th {\n",
       "        vertical-align: top;\n",
       "    }\n",
       "\n",
       "    .dataframe thead th {\n",
       "        text-align: right;\n",
       "    }\n",
       "</style>\n",
       "<table border=\"1\" class=\"dataframe\">\n",
       "  <thead>\n",
       "    <tr style=\"text-align: right;\">\n",
       "      <th></th>\n",
       "      <th>Feature</th>\n",
       "      <th>Importance</th>\n",
       "    </tr>\n",
       "  </thead>\n",
       "  <tbody>\n",
       "    <tr>\n",
       "      <th>0</th>\n",
       "      <td>age</td>\n",
       "      <td>0.226159</td>\n",
       "    </tr>\n",
       "    <tr>\n",
       "      <th>1</th>\n",
       "      <td>current_smoker</td>\n",
       "      <td>0.065066</td>\n",
       "    </tr>\n",
       "    <tr>\n",
       "      <th>2</th>\n",
       "      <td>prevalent_hypertension</td>\n",
       "      <td>0.083965</td>\n",
       "    </tr>\n",
       "    <tr>\n",
       "      <th>3</th>\n",
       "      <td>diabetes</td>\n",
       "      <td>0.062010</td>\n",
       "    </tr>\n",
       "    <tr>\n",
       "      <th>4</th>\n",
       "      <td>total_cholesterol</td>\n",
       "      <td>0.090368</td>\n",
       "    </tr>\n",
       "  </tbody>\n",
       "</table>\n",
       "</div>"
      ],
      "text/plain": [
       "                  Feature  Importance\n",
       "0                     age    0.226159\n",
       "1          current_smoker    0.065066\n",
       "2  prevalent_hypertension    0.083965\n",
       "3                diabetes    0.062010\n",
       "4       total_cholesterol    0.090368"
      ]
     },
     "execution_count": 84,
     "metadata": {},
     "output_type": "execute_result"
    }
   ],
   "source": [
    "# Step 9: Get feature importance\n",
    "feature_importance = model.feature_importances_\n",
    "\n",
    "# Create a DataFrame to store feature names and their importance values\n",
    "feature_importance_df = pd.DataFrame({'Feature': X_train_resampled.columns, 'Importance': feature_importance})\n",
    "\n",
    "feature_importance_df.head()"
   ]
  },
  {
   "cell_type": "code",
   "execution_count": 85,
   "metadata": {},
   "outputs": [
    {
     "data": {
      "text/html": [
       "<div>\n",
       "<style scoped>\n",
       "    .dataframe tbody tr th:only-of-type {\n",
       "        vertical-align: middle;\n",
       "    }\n",
       "\n",
       "    .dataframe tbody tr th {\n",
       "        vertical-align: top;\n",
       "    }\n",
       "\n",
       "    .dataframe thead th {\n",
       "        text-align: right;\n",
       "    }\n",
       "</style>\n",
       "<table border=\"1\" class=\"dataframe\">\n",
       "  <thead>\n",
       "    <tr style=\"text-align: right;\">\n",
       "      <th></th>\n",
       "      <th>Feature</th>\n",
       "      <th>Importance</th>\n",
       "    </tr>\n",
       "  </thead>\n",
       "  <tbody>\n",
       "    <tr>\n",
       "      <th>0</th>\n",
       "      <td>age</td>\n",
       "      <td>0.226159</td>\n",
       "    </tr>\n",
       "    <tr>\n",
       "      <th>9</th>\n",
       "      <td>gender</td>\n",
       "      <td>0.162910</td>\n",
       "    </tr>\n",
       "    <tr>\n",
       "      <th>5</th>\n",
       "      <td>systolic_blood_pressure</td>\n",
       "      <td>0.142983</td>\n",
       "    </tr>\n",
       "    <tr>\n",
       "      <th>4</th>\n",
       "      <td>total_cholesterol</td>\n",
       "      <td>0.090368</td>\n",
       "    </tr>\n",
       "    <tr>\n",
       "      <th>6</th>\n",
       "      <td>diastolic_blood_pressure</td>\n",
       "      <td>0.085460</td>\n",
       "    </tr>\n",
       "  </tbody>\n",
       "</table>\n",
       "</div>"
      ],
      "text/plain": [
       "                    Feature  Importance\n",
       "0                       age    0.226159\n",
       "9                    gender    0.162910\n",
       "5   systolic_blood_pressure    0.142983\n",
       "4         total_cholesterol    0.090368\n",
       "6  diastolic_blood_pressure    0.085460"
      ]
     },
     "execution_count": 85,
     "metadata": {},
     "output_type": "execute_result"
    }
   ],
   "source": [
    "#Sort the DataFrame by importance values in descending order\n",
    "feature_importance_df = feature_importance_df.sort_values(by='Importance', ascending=False)\n",
    "feature_importance_df.head()"
   ]
  },
  {
   "cell_type": "code",
   "execution_count": 86,
   "metadata": {},
   "outputs": [
    {
     "data": {
      "image/png": "[encoded data removed]",
      "text/plain": [
       "<Figure size 1000x600 with 1 Axes>"
      ]
     },
     "metadata": {},
     "output_type": "display_data"
    }
   ],
   "source": [
    "# Step 10: Making a Graph to show the features from the data in order of weight\n",
    "\n",
    "import matplotlib.pyplot as plt\n",
    "\n",
    "# Plot the feature importance\n",
    "plt.figure(figsize=(10, 6))\n",
    "plt.bar(feature_importance_df['Feature'], feature_importance_df['Importance'])\n",
    "plt.xticks(rotation=75)\n",
    "plt.xlabel('Feature')\n",
    "plt.ylabel('Importance')\n",
    "plt.title('XGBoost Feature Importance')\n",
    "plt.show()"
   ]
  },
  {
   "cell_type": "markdown",
   "metadata": {},
   "source": [
    "# Using GridSearch to find Best Hyperparameters"
   ]
  },
  {
   "cell_type": "code",
   "execution_count": 87,
   "metadata": {},
   "outputs": [],
   "source": [
    "from sklearn.model_selection import GridSearchCV"
   ]
  },
  {
   "cell_type": "code",
   "execution_count": 88,
   "metadata": {},
   "outputs": [],
   "source": [
    "# Step 1: Define the parameter grid to search\n",
    "param_grid = {\n",
    "    'learning_rate': [0.01, 0.1, 0.2],              # Step size shrinkage used in update to prevent overfitting\n",
    "    'n_estimators': [50, 100, 200],                 # Number of boosting rounds (trees)\n",
    "    'max_depth': [3, 5, 7],                         # Maximum depth of a tree\n",
    "    'min_child_weight': [1, 3, 5],                  # Minimum sum of instance weight needed in a child\n",
    "    'subsample': [0.8, 1.0],                        # Subsample ratio of the training instances\n",
    "    'colsample_bytree': [0.8, 1.0],                 # Subsample ratio of columns when constructing each tree\n",
    "}\n"
   ]
  },
  {
   "cell_type": "code",
   "execution_count": 89,
   "metadata": {},
   "outputs": [],
   "source": [
    "# Step 2: Create the XGBoost model\n",
    "xgb_model = xgb.XGBClassifier(objective='binary:logistic', random_state=42)"
   ]
  },
  {
   "cell_type": "code",
   "execution_count": 90,
   "metadata": {},
   "outputs": [],
   "source": [
    "# Step 3: Create the GridSearchCV object\n",
    "grid_search = GridSearchCV(estimator=xgb_model, param_grid=param_grid, scoring='accuracy', cv=5)"
   ]
  },
  {
   "cell_type": "code",
   "execution_count": 91,
   "metadata": {},
   "outputs": [
    {
     "data": {
      "text/plain": [
       "GridSearchCV(cv=5,\n",
       "             estimator=XGBClassifier(base_score=None, booster=None,\n",
       "                                     callbacks=None, colsample_bylevel=None,\n",
       "                                     colsample_bynode=None,\n",
       "                                     colsample_bytree=None,\n",
       "                                     early_stopping_rounds=None,\n",
       "                                     enable_categorical=False, eval_metric=None,\n",
       "                                     gamma=None, gpu_id=None, grow_policy=None,\n",
       "                                     importance_type=None,\n",
       "                                     interaction_constraints=None,\n",
       "                                     learning_rate=None, max_bin=None,\n",
       "                                     max_ca...\n",
       "                                     max_leaves=None, min_child_weight=None,\n",
       "                                     missing=nan, monotone_constraints=None,\n",
       "                                     n_estimators=100, n_jobs=None,\n",
       "                                     num_parallel_tree=None, predictor=None,\n",
       "                                     random_state=42, reg_alpha=None,\n",
       "                                     reg_lambda=None, ...),\n",
       "             param_grid={'colsample_bytree': [0.8, 1.0],\n",
       "                         'learning_rate': [0.01, 0.1, 0.2],\n",
       "                         'max_depth': [3, 5, 7], 'min_child_weight': [1, 3, 5],\n",
       "                         'n_estimators': [50, 100, 200],\n",
       "                         'subsample': [0.8, 1.0]},\n",
       "             scoring='accuracy')"
      ]
     },
     "execution_count": 91,
     "metadata": {},
     "output_type": "execute_result"
    }
   ],
   "source": [
    "# Step 4: Fit the GridSearchCV object to the data\n",
    "grid_search.fit(X_train_resampled, y_train_resampled)"
   ]
  },
  {
   "cell_type": "code",
   "execution_count": 92,
   "metadata": {},
   "outputs": [
    {
     "name": "stdout",
     "output_type": "stream",
     "text": [
      "Best Hyperparameters: {'colsample_bytree': 0.8, 'learning_rate': 0.1, 'max_depth': 7, 'min_child_weight': 1, 'n_estimators': 200, 'subsample': 1.0}\n"
     ]
    }
   ],
   "source": [
    "# Step 5: Get the best hyperparameters and model\n",
    "best_params = grid_search.best_params_\n",
    "best_model = grid_search.best_estimator_\n",
    "\n",
    "print(\"Best Hyperparameters:\", best_params)"
   ]
  },
  {
   "cell_type": "markdown",
   "metadata": {},
   "source": [
    "# Rerunning the Data with the New Hyperparameters"
   ]
  },
  {
   "cell_type": "code",
   "execution_count": 93,
   "metadata": {},
   "outputs": [],
   "source": [
    "# Step 1: Create the XGBoost model with the best hyperparameters\n",
    "best_params = {'colsample_bytree': 0.8, 'learning_rate': 0.1, 'max_depth': 7,\n",
    "               'min_child_weight': 1, 'n_estimators': 200, 'subsample': 1.0}\n",
    "xgb_model = xgb.XGBClassifier(objective='binary:logistic', random_state=42, **best_params)\n"
   ]
  },
  {
   "cell_type": "code",
   "execution_count": 94,
   "metadata": {},
   "outputs": [
    {
     "data": {
      "text/plain": [
       "XGBClassifier(base_score=0.5, booster='gbtree', callbacks=None,\n",
       "              colsample_bylevel=1, colsample_bynode=1, colsample_bytree=0.8,\n",
       "              early_stopping_rounds=None, enable_categorical=False,\n",
       "              eval_metric=None, gamma=0, gpu_id=-1, grow_policy='depthwise',\n",
       "              importance_type=None, interaction_constraints='',\n",
       "              learning_rate=0.1, max_bin=256, max_cat_to_onehot=4,\n",
       "              max_delta_step=0, max_depth=7, max_leaves=0, min_child_weight=1,\n",
       "              missing=nan, monotone_constraints='()', n_estimators=200,\n",
       "              n_jobs=0, num_parallel_tree=1, predictor='auto', random_state=42,\n",
       "              reg_alpha=0, reg_lambda=1, ...)"
      ]
     },
     "execution_count": 94,
     "metadata": {},
     "output_type": "execute_result"
    }
   ],
   "source": [
    "# Step 2: Train the model on the full training data\n",
    "xgb_model.fit(X_train, y_train)"
   ]
  },
  {
   "cell_type": "code",
   "execution_count": 95,
   "metadata": {},
   "outputs": [],
   "source": [
    "# Step 3: Handle Class Imbalance using SMOTE\n",
    "smote = SMOTE(random_state=42)\n",
    "X_train_resampled, y_train_resampled = smote.fit_resample(X_train, y_train)"
   ]
  },
  {
   "cell_type": "code",
   "execution_count": 96,
   "metadata": {},
   "outputs": [],
   "source": [
    "# Step 4: Make predictions on the test data\n",
    "y_pred = xgb_model.predict(X_test)"
   ]
  },
  {
   "cell_type": "code",
   "execution_count": 97,
   "metadata": {},
   "outputs": [
    {
     "name": "stdout",
     "output_type": "stream",
     "text": [
      "Accuracy: 0.842925659472422\n",
      "Classification Report:\n",
      "              precision    recall  f1-score   support\n",
      "\n",
      "           0       0.86      0.97      0.91       708\n",
      "           1       0.43      0.13      0.20       126\n",
      "\n",
      "    accuracy                           0.84       834\n",
      "   macro avg       0.65      0.55      0.55       834\n",
      "weighted avg       0.80      0.84      0.80       834\n",
      "\n",
      "Confusion Matrix:\n",
      "[[687  21]\n",
      " [110  16]]\n"
     ]
    }
   ],
   "source": [
    "# Step 5: Evaluate the model's performance on the test set (ground truth labels)\n",
    "accuracy = accuracy_score(y_test, y_pred)\n",
    "print(\"Accuracy:\", accuracy)\n",
    "\n",
    "print(\"Classification Report:\")\n",
    "print(classification_report(y_test, y_pred))\n",
    "\n",
    "print(\"Confusion Matrix:\")\n",
    "print(confusion_matrix(y_test, y_pred))"
   ]
  },
  {
   "cell_type": "code",
   "execution_count": 98,
   "metadata": {},
   "outputs": [
    {
     "data": {
      "text/html": [
       "<div>\n",
       "<style scoped>\n",
       "    .dataframe tbody tr th:only-of-type {\n",
       "        vertical-align: middle;\n",
       "    }\n",
       "\n",
       "    .dataframe tbody tr th {\n",
       "        vertical-align: top;\n",
       "    }\n",
       "\n",
       "    .dataframe thead th {\n",
       "        text-align: right;\n",
       "    }\n",
       "</style>\n",
       "<table border=\"1\" class=\"dataframe\">\n",
       "  <thead>\n",
       "    <tr style=\"text-align: right;\">\n",
       "      <th></th>\n",
       "      <th>Feature</th>\n",
       "      <th>Importance</th>\n",
       "    </tr>\n",
       "  </thead>\n",
       "  <tbody>\n",
       "    <tr>\n",
       "      <th>0</th>\n",
       "      <td>age</td>\n",
       "      <td>0.226159</td>\n",
       "    </tr>\n",
       "    <tr>\n",
       "      <th>1</th>\n",
       "      <td>current_smoker</td>\n",
       "      <td>0.065066</td>\n",
       "    </tr>\n",
       "    <tr>\n",
       "      <th>2</th>\n",
       "      <td>prevalent_hypertension</td>\n",
       "      <td>0.083965</td>\n",
       "    </tr>\n",
       "    <tr>\n",
       "      <th>3</th>\n",
       "      <td>diabetes</td>\n",
       "      <td>0.062010</td>\n",
       "    </tr>\n",
       "    <tr>\n",
       "      <th>4</th>\n",
       "      <td>total_cholesterol</td>\n",
       "      <td>0.090368</td>\n",
       "    </tr>\n",
       "  </tbody>\n",
       "</table>\n",
       "</div>"
      ],
      "text/plain": [
       "                  Feature  Importance\n",
       "0                     age    0.226159\n",
       "1          current_smoker    0.065066\n",
       "2  prevalent_hypertension    0.083965\n",
       "3                diabetes    0.062010\n",
       "4       total_cholesterol    0.090368"
      ]
     },
     "execution_count": 98,
     "metadata": {},
     "output_type": "execute_result"
    }
   ],
   "source": [
    "# Step 6: Get feature importance\n",
    "feature_importance = model.feature_importances_\n",
    "\n",
    "# Create a DataFrame to store feature names and their importance values\n",
    "feature_importance_df = pd.DataFrame({'Feature': X_train_resampled.columns, 'Importance': feature_importance})\n",
    "\n",
    "feature_importance_df.head()"
   ]
  },
  {
   "cell_type": "code",
   "execution_count": 99,
   "metadata": {},
   "outputs": [
    {
     "data": {
      "text/html": [
       "<div>\n",
       "<style scoped>\n",
       "    .dataframe tbody tr th:only-of-type {\n",
       "        vertical-align: middle;\n",
       "    }\n",
       "\n",
       "    .dataframe tbody tr th {\n",
       "        vertical-align: top;\n",
       "    }\n",
       "\n",
       "    .dataframe thead th {\n",
       "        text-align: right;\n",
       "    }\n",
       "</style>\n",
       "<table border=\"1\" class=\"dataframe\">\n",
       "  <thead>\n",
       "    <tr style=\"text-align: right;\">\n",
       "      <th></th>\n",
       "      <th>Feature</th>\n",
       "      <th>Importance</th>\n",
       "    </tr>\n",
       "  </thead>\n",
       "  <tbody>\n",
       "    <tr>\n",
       "      <th>0</th>\n",
       "      <td>age</td>\n",
       "      <td>0.226159</td>\n",
       "    </tr>\n",
       "    <tr>\n",
       "      <th>9</th>\n",
       "      <td>gender</td>\n",
       "      <td>0.162910</td>\n",
       "    </tr>\n",
       "    <tr>\n",
       "      <th>5</th>\n",
       "      <td>systolic_blood_pressure</td>\n",
       "      <td>0.142983</td>\n",
       "    </tr>\n",
       "    <tr>\n",
       "      <th>4</th>\n",
       "      <td>total_cholesterol</td>\n",
       "      <td>0.090368</td>\n",
       "    </tr>\n",
       "    <tr>\n",
       "      <th>6</th>\n",
       "      <td>diastolic_blood_pressure</td>\n",
       "      <td>0.085460</td>\n",
       "    </tr>\n",
       "  </tbody>\n",
       "</table>\n",
       "</div>"
      ],
      "text/plain": [
       "                    Feature  Importance\n",
       "0                       age    0.226159\n",
       "9                    gender    0.162910\n",
       "5   systolic_blood_pressure    0.142983\n",
       "4         total_cholesterol    0.090368\n",
       "6  diastolic_blood_pressure    0.085460"
      ]
     },
     "execution_count": 99,
     "metadata": {},
     "output_type": "execute_result"
    }
   ],
   "source": [
    "#Sort the DataFrame by importance values in descending order\n",
    "feature_importance_df = feature_importance_df.sort_values(by='Importance', ascending=False)\n",
    "feature_importance_df.head()"
   ]
  },
  {
   "cell_type": "code",
   "execution_count": 100,
   "metadata": {},
   "outputs": [
    {
     "data": {
      "image/png": "[encoded data removed]",
      "text/plain": [
       "<Figure size 1000x600 with 1 Axes>"
      ]
     },
     "metadata": {},
     "output_type": "display_data"
    }
   ],
   "source": [
    "# Step 7: Making a Graph to show the features from the data in order of weight\n",
    "\n",
    "# Plot the feature importance\n",
    "plt.figure(figsize=(10, 6))\n",
    "plt.bar(feature_importance_df['Feature'], feature_importance_df['Importance'])\n",
    "plt.xticks(rotation=75)\n",
    "plt.xlabel('Feature')\n",
    "plt.ylabel('Importance')\n",
    "plt.title('XGBoost Feature Importance')\n",
    "plt.show()"
   ]
  },
  {
   "cell_type": "markdown",
   "metadata": {},
   "source": [
    "# Exporting the Model"
   ]
  },
  {
   "cell_type": "code",
   "execution_count": 101,
   "metadata": {},
   "outputs": [],
   "source": [
    "import joblib\n",
    "import os"
   ]
  },
  {
   "cell_type": "code",
   "execution_count": 102,
   "metadata": {},
   "outputs": [],
   "source": [
    "# Step 1: Specify the folder and filename for saving the model\n",
    "model_folder = 'models'  # Replace with the desired folder path\n",
    "model_filename = 'xgb_model.pkl'\n",
    "\n",
    "# Full path to the model file\n",
    "full_model_path = os.path.join(model_folder, model_filename)"
   ]
  },
  {
   "cell_type": "code",
   "execution_count": 103,
   "metadata": {},
   "outputs": [
    {
     "name": "stdout",
     "output_type": "stream",
     "text": [
      "Model saved as models/xgb_model.pkl\n"
     ]
    }
   ],
   "source": [
    "# Step 2: Export the trained model using joblib\n",
    "joblib.dump(xgb_model, full_model_path)\n",
    "\n",
    "print(\"Model saved as\", full_model_path)"
   ]
  }
 ],
 "metadata": {
  "kernelspec": {
   "display_name": "pythondata",
   "language": "python",
   "name": "python3"
  },
  "language_info": {
   "codemirror_mode": {
    "name": "ipython",
    "version": 3
   },
   "file_extension": ".py",
   "mimetype": "text/x-python",
   "name": "python",
   "nbconvert_exporter": "python",
   "pygments_lexer": "ipython3",
   "version": "3.7.13"
  },
  "orig_nbformat": 4
 },
 "nbformat": 4,
 "nbformat_minor": 2
}
