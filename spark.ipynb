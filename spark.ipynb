{
 "cells": [
  {
   "cell_type": "code",
   "execution_count": 1,
   "id": "07a5055a",
   "metadata": {},
   "outputs": [],
   "source": [
    "# Import findspark and initialize. \n",
    "import findspark\n",
    "findspark.init()"
   ]
  },
  {
   "cell_type": "code",
   "execution_count": 2,
   "id": "c3917df6",
   "metadata": {},
   "outputs": [
    {
     "name": "stderr",
     "output_type": "stream",
     "text": [
      "23/07/31 19:57:51 WARN Utils: Your hostname, sgMBPM1.local resolves to a loopback address: 127.0.0.1; using 10.0.0.48 instead (on interface en0)\n",
      "23/07/31 19:57:51 WARN Utils: Set SPARK_LOCAL_IP if you need to bind to another address\n",
      "Setting default log level to \"WARN\".\n",
      "To adjust logging level use sc.setLogLevel(newLevel). For SparkR, use setLogLevel(newLevel).\n",
      "23/07/31 19:57:51 WARN NativeCodeLoader: Unable to load native-hadoop library for your platform... using builtin-java classes where applicable\n",
      "/Users/seanguzman/opt/anaconda3/envs/pythondata/lib/python3.7/site-packages/pyspark/context.py:317: FutureWarning: Python 3.7 support is deprecated in Spark 3.4.\n",
      "  warnings.warn(\"Python 3.7 support is deprecated in Spark 3.4.\", FutureWarning)\n"
     ]
    }
   ],
   "source": [
    "# Import packages\n",
    "from pyspark.sql import SparkSession\n",
    "from pyspark.sql import Row\n",
    "from pyspark.sql.types import StructType,StructField,StringType, DateType,IntegerType\n",
    "from pyspark import SparkFiles\n",
    "\n",
    "# Create a SparkSession\n",
    "spark = SparkSession.builder.appName(\"HeartView\").getOrCreate()"
   ]
  },
  {
   "cell_type": "code",
   "execution_count": 3,
   "id": "8191da68",
   "metadata": {},
   "outputs": [],
   "source": [
    "# Read data directly from a github repo.\n",
    "url='https://raw.githubusercontent.com/cscar43/Project_4/main/Resources/cleaned_data.csv'"
   ]
  },
  {
   "cell_type": "code",
   "execution_count": 4,
   "id": "2a8e928c",
   "metadata": {},
   "outputs": [
    {
     "name": "stdout",
     "output_type": "stream",
     "text": [
      "+------+---+-------------+--------------+------------------+-------+----------------+----------------------+--------+-----------------+-----------------------+------------------------+-----+----------+-------+------------+\n",
      "|gender|age|    education|current_smoker|cigarettes_per_day|bp_meds|prevalent_stroke|prevalent_hypertension|diabetes|total_cholesterol|systolic_blood_pressure|diastolic_blood_pressure|  bmi|heart_rate|glucose|heart_stroke|\n",
      "+------+---+-------------+--------------+------------------+-------+----------------+----------------------+--------+-----------------+-----------------------+------------------------+-----+----------+-------+------------+\n",
      "|  Male| 39| postgraduate|             0|               0.0|    0.0|              no|                     0|       0|            195.0|                  106.0|                    70.0|26.97|      80.0|   77.0|          No|\n",
      "|Female| 46|primaryschool|             0|               0.0|    0.0|              no|                     0|       0|            250.0|                  121.0|                    81.0|28.73|      95.0|   76.0|          No|\n",
      "|  Male| 48|   uneducated|             1|              20.0|    0.0|              no|                     0|       0|            245.0|                  127.5|                    80.0|25.34|      75.0|   70.0|          No|\n",
      "|Female| 61|     graduate|             1|              30.0|    0.0|              no|                     1|       0|            225.0|                  150.0|                    95.0|28.58|      65.0|  103.0|         yes|\n",
      "|Female| 46|     graduate|             1|              23.0|    0.0|              no|                     0|       0|            285.0|                  130.0|                    84.0| 23.1|      85.0|   85.0|          No|\n",
      "|Female| 43|primaryschool|             0|               0.0|    0.0|              no|                     1|       0|            228.0|                  180.0|                   110.0| 30.3|      77.0|   99.0|          No|\n",
      "|Female| 63|   uneducated|             0|               0.0|    0.0|              no|                     0|       0|            205.0|                  138.0|                    71.0|33.11|      60.0|   85.0|         yes|\n",
      "|Female| 45|primaryschool|             1|              20.0|    0.0|              no|                     0|       0|            313.0|                  100.0|                    71.0|21.68|      79.0|   78.0|          No|\n",
      "|  Male| 52|   uneducated|             0|               0.0|    0.0|              no|                     1|       0|            260.0|                  141.5|                    89.0|26.36|      76.0|   79.0|          No|\n",
      "|  Male| 43|   uneducated|             1|              30.0|    0.0|              no|                     1|       0|            225.0|                  162.0|                   107.0|23.61|      93.0|   88.0|          No|\n",
      "|Female| 50|   uneducated|             0|               0.0|    0.0|              no|                     0|       0|            254.0|                  133.0|                    76.0|22.91|      75.0|   76.0|          No|\n",
      "|Female| 43|primaryschool|             0|               0.0|    0.0|              no|                     0|       0|            247.0|                  131.0|                    88.0|27.64|      72.0|   61.0|          No|\n",
      "|  Male| 46|   uneducated|             1|              15.0|    0.0|              no|                     1|       0|            294.0|                  142.0|                    94.0|26.31|      98.0|   64.0|          No|\n",
      "|Female| 41|     graduate|             0|               0.0|    1.0|              no|                     1|       0|            332.0|                  124.0|                    88.0|31.31|      65.0|   84.0|          No|\n",
      "|Female| 38|primaryschool|             1|              20.0|    0.0|              no|                     1|       0|            221.0|                  140.0|                    90.0|21.35|      95.0|   70.0|         yes|\n",
      "|  Male| 48|     graduate|             1|              10.0|    0.0|              no|                     1|       0|            232.0|                  138.0|                    90.0|22.37|      64.0|   72.0|          No|\n",
      "|Female| 46|primaryschool|             1|              20.0|    0.0|              no|                     0|       0|            291.0|                  112.0|                    78.0|23.38|      80.0|   89.0|         yes|\n",
      "|Female| 38|primaryschool|             1|               5.0|    0.0|              no|                     0|       0|            195.0|                  122.0|                    84.5|23.24|      75.0|   78.0|          No|\n",
      "|  Male| 41|primaryschool|             0|               0.0|    0.0|              no|                     0|       0|            195.0|                  139.0|                    88.0|26.88|      85.0|   65.0|          No|\n",
      "|Female| 42|primaryschool|             1|              30.0|    0.0|              no|                     0|       0|            190.0|                  108.0|                    70.5|21.59|      72.0|   85.0|          No|\n",
      "+------+---+-------------+--------------+------------------+-------+----------------+----------------------+--------+-----------------+-----------------------+------------------------+-----+----------+-------+------------+\n",
      "only showing top 20 rows\n",
      "\n"
     ]
    },
    {
     "name": "stderr",
     "output_type": "stream",
     "text": [
      "23/07/31 19:58:09 WARN GarbageCollectionMetrics: To enable non-built-in garbage collector(s) List(G1 Concurrent GC), users should configure it(them) to spark.eventLog.gcMetrics.youngGenerationGarbageCollectors or spark.eventLog.gcMetrics.oldGenerationGarbageCollectors\n"
     ]
    }
   ],
   "source": [
    "spark.sparkContext.addFile(url)\n",
    "heart_data = spark.read.option('header', 'true').csv(SparkFiles.get(\"cleaned_data.csv\"), inferSchema=True, sep=',', timestampFormat=\"mm/dd/yy\")\n",
    "\n",
    "# Show DataFrame\n",
    "heart_data.show()"
   ]
  },
  {
   "cell_type": "code",
   "execution_count": null,
   "id": "f4ddeaf1",
   "metadata": {},
   "outputs": [],
   "source": []
  }
 ],
 "metadata": {
  "kernelspec": {
   "display_name": "Python [conda env:pythondata] *",
   "language": "python",
   "name": "conda-env-pythondata-py"
  },
  "language_info": {
   "codemirror_mode": {
    "name": "ipython",
    "version": 3
   },
   "file_extension": ".py",
   "mimetype": "text/x-python",
   "name": "python",
   "nbconvert_exporter": "python",
   "pygments_lexer": "ipython3",
   "version": "3.7.13"
  }
 },
 "nbformat": 4,
 "nbformat_minor": 5
}
